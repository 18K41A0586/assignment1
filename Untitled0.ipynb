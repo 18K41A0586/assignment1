{
  "nbformat": 4,
  "nbformat_minor": 0,
  "metadata": {
    "colab": {
      "name": "Untitled0.ipynb",
      "provenance": [],
      "collapsed_sections": [],
      "authorship_tag": "ABX9TyON4dOGAeqigpxcSbPpPl2R",
      "include_colab_link": true
    },
    "kernelspec": {
      "name": "python3",
      "display_name": "Python 3"
    }
  },
  "cells": [
    {
      "cell_type": "markdown",
      "metadata": {
        "id": "view-in-github",
        "colab_type": "text"
      },
      "source": [
        "<a href=\"https://colab.research.google.com/github/18K41A0586/assignment1/blob/master/Untitled0.ipynb\" target=\"_parent\"><img src=\"https://colab.research.google.com/assets/colab-badge.svg\" alt=\"Open In Colab\"/></a>"
      ]
    },
    {
      "cell_type": "code",
      "metadata": {
        "id": "CgTch8tOVBN3",
        "colab_type": "code",
        "colab": {
          "base_uri": "https://localhost:8080/",
          "height": 50
        },
        "outputId": "490eeb55-f3fb-47ce-de72-2d76567d8712"
      },
      "source": [
        "x=int(input(\"Enter the year for Zodiac sign:\"))\n",
        "year=x%12\n",
        "zodiac={0:\"monkey\",1:\"rooster\",2:\"dog\",3:\"pig\",4:\"rat\",5:\"ox\",6:\"tiger\",7:\"rabbit\",8:\"dragon\",9:\"snake\",10:\"horse\",11:\"sheep\"}\n",
        "print(zodiac[yr])"
      ],
      "execution_count": 2,
      "outputs": [
        {
          "output_type": "stream",
          "text": [
            "Enter the year for Zodiac sign:2000\n",
            "dragon\n"
          ],
          "name": "stdout"
        }
      ]
    },
    {
      "cell_type": "code",
      "metadata": {
        "id": "b6Vv9Oe5XLar",
        "colab_type": "code",
        "colab": {
          "base_uri": "https://localhost:8080/",
          "height": 67
        },
        "outputId": "7f360f11-a73a-4ed1-ec57-a8209ca54e00"
      },
      "source": [
        "distance=int(input(\"Distance to be travel:\"))\n",
        "wt=int(input(\"Weight of the goods:\"))\n",
        "if distance>=500:\n",
        "  if wt>=100:\n",
        "    cost=5*distance\n",
        "  elif wt>=10 and wt <100:\n",
        "    cost=6*distance\n",
        "  else:\n",
        "    cost=7*distance \n",
        "else:\n",
        "  if wt>=100:\n",
        "    cost=8*distance\n",
        "  else:\n",
        "    cost=5*distance \n",
        "print(\"Amount to be charged:\",cost)"
      ],
      "execution_count": 3,
      "outputs": [
        {
          "output_type": "stream",
          "text": [
            "Distance to be travel:500\n",
            "Weight of the goods:75\n",
            "Amount to be charged: 3000\n"
          ],
          "name": "stdout"
        }
      ]
    },
    {
      "cell_type": "code",
      "metadata": {
        "id": "o2_REh3XYy6C",
        "colab_type": "code",
        "colab": {
          "base_uri": "https://localhost:8080/",
          "height": 67
        },
        "outputId": "95b0f279-7487-437c-e82f-230b4fe38873"
      },
      "source": [
        "x=[\"Stalls\",\"Circle\",\"UpperClass\",\"box\"]\n",
        "s=input(\"Type of seat:\")\n",
        "paym=input(\"Payment mode:\")\n",
        "p=\"cash\"\n",
        "if paym==p:\n",
        "  if s in x[0]:\n",
        "    dis=625*(0.1)\n",
        "    y=625-dis\n",
        "  elif s in x[1]:\n",
        "    dis=750*(0.1)\n",
        "    y=750-dis\n",
        "  elif s in x[2]:\n",
        "    dis=850*(0.1)\n",
        "    y=850-dis\n",
        "  else:\n",
        "    dis=1000*(0.1)\n",
        "    y=1000-dis\n",
        "else:\n",
        "  if s in x[0]:\n",
        "    dis=625*(0.05)\n",
        "    y=625-dis\n",
        "  elif s in x[1]:\n",
        "    dis=750*(0.05)\n",
        "    y=750-dis\n",
        "  elif s in x[2]:\n",
        "    dis=850*(0.05)\n",
        "    y=850-dis\n",
        "  else:\n",
        "    dis=1000*(0.05)\n",
        "    y=1000-dis\n",
        "print(y)"
      ],
      "execution_count": 4,
      "outputs": [
        {
          "output_type": "stream",
          "text": [
            "Type of seat:box\n",
            "Payment mode:cash\n",
            "900.0\n"
          ],
          "name": "stdout"
        }
      ]
    },
    {
      "cell_type": "code",
      "metadata": {
        "id": "QdNFCxl6ZypP",
        "colab_type": "code",
        "colab": {
          "base_uri": "https://localhost:8080/",
          "height": 50
        },
        "outputId": "205869e0-58ae-41e2-ae8f-cfc3fe95d902"
      },
      "source": [
        "w=int(input(\"Enter Amount of water:\"))\n",
        "x=w*(100-0)*4184\n",
        "print(\"Energy:\",x)"
      ],
      "execution_count": 6,
      "outputs": [
        {
          "output_type": "stream",
          "text": [
            "Enter Amount of water:500\n",
            "Energy: 209200000\n"
          ],
          "name": "stdout"
        }
      ]
    },
    {
      "cell_type": "code",
      "metadata": {
        "id": "1OhqwdDZaVH6",
        "colab_type": "code",
        "colab": {
          "base_uri": "https://localhost:8080/",
          "height": 50
        },
        "outputId": "7ca1006a-d68c-45bc-c375-9634d6be5284"
      },
      "source": [
        "mon=input(\"Enter the month:\")\n",
        "wint=[\"December\",\"January\",\"February\"]\n",
        "spr=[\"March\",\"April\",\"May\"]\n",
        "summ=[\"June\",\"July\",\"August\"]\n",
        "aut=[\"September\",\"October\",\"november\"]\n",
        "if mon in wint:\n",
        "  print(\"Winter\")\n",
        "if mon in spr:\n",
        "  print(\"Spring\")\n",
        "elif mon in summ:\n",
        "  print(\"Summer\")\n",
        "elif mon in aut:\n",
        "  print(\"Autumn\")"
      ],
      "execution_count": 7,
      "outputs": [
        {
          "output_type": "stream",
          "text": [
            "Enter the month:April\n",
            "Spring\n"
          ],
          "name": "stdout"
        }
      ]
    },
    {
      "cell_type": "code",
      "metadata": {
        "id": "dprKfajPa3F_",
        "colab_type": "code",
        "colab": {
          "base_uri": "https://localhost:8080/",
          "height": 84
        },
        "outputId": "13939d35-1dfd-4581-f1dd-d187bf10007e"
      },
      "source": [
        "wt=float(input(\"Enter weight:\"))\n",
        "ht=float(input(\"Enter height:\"))\n",
        "wt=wt*0.45359237\n",
        "ht=ht*0.0254\n",
        "b=wt/(ht**2)\n",
        "if b<18.5:\n",
        "  print(\"Underweight\")\n",
        "elif b>=18.5 and b<25.0:\n",
        "  print(\"Normal\")\n",
        "elif b>=25.0 and b<30.0:\n",
        "  print(\"Overweight\")\n",
        "else:\n",
        "  print(\"Obese\") \n",
        "print(\"BMI is:\",b)"
      ],
      "execution_count": 8,
      "outputs": [
        {
          "output_type": "stream",
          "text": [
            "Enter weight:45\n",
            "Enter height:153\n",
            "Underweight\n",
            "BMI is: 1.351537061974547\n"
          ],
          "name": "stdout"
        }
      ]
    },
    {
      "cell_type": "code",
      "metadata": {
        "id": "A2lk5-VabTtN",
        "colab_type": "code",
        "colab": {
          "base_uri": "https://localhost:8080/",
          "height": 50
        },
        "outputId": "918e2b4b-4c7f-48cc-d00a-c099fb83197d"
      },
      "source": [
        "numbr=int(input(\"Enter number between 100 and 1000:\"))\n",
        "rem=0\n",
        "sum=0\n",
        "if(numbr>=100 and numbr<=1000):\n",
        "    while numbr > 0:\n",
        "      rem=numbr%10\n",
        "      sum=sum+rem\n",
        "      numbr=numbr//10\n",
        "print(\"Sum of all digits :\",sum)"
      ],
      "execution_count": 9,
      "outputs": [
        {
          "output_type": "stream",
          "text": [
            "Enter number between 100 and 1000:123\n",
            "Sum of all digits : 6\n"
          ],
          "name": "stdout"
        }
      ]
    },
    {
      "cell_type": "code",
      "metadata": {
        "id": "v1JELOxGbzht",
        "colab_type": "code",
        "colab": {
          "base_uri": "https://localhost:8080/",
          "height": 54
        },
        "outputId": "5b31197c-6993-474a-c209-be69ef74162e"
      },
      "source": [
        "\n",
        "for n in range(1,1001):\n",
        "  temp=n\n",
        "  rev=0\n",
        "  if(n>=1 and n<=1000):\n",
        "    while temp > 0:\n",
        "      rem=temp%10\n",
        "      rev=(rev*10)+rem\n",
        "      temp=temp//10\n",
        "    if n==rev:  \n",
        "      print(n ,end=\" \")"
      ],
      "execution_count": 12,
      "outputs": [
        {
          "output_type": "stream",
          "text": [
            "1 2 3 4 5 6 7 8 9 11 22 33 44 55 66 77 88 99 101 111 121 131 141 151 161 171 181 191 202 212 222 232 242 252 262 272 282 292 303 313 323 333 343 353 363 373 383 393 404 414 424 434 444 454 464 474 484 494 505 515 525 535 545 555 565 575 585 595 606 616 626 636 646 656 666 676 686 696 707 717 727 737 747 757 767 777 787 797 808 818 828 838 848 858 868 878 888 898 909 919 929 939 949 959 969 979 989 999 "
          ],
          "name": "stdout"
        }
      ]
    },
    {
      "cell_type": "code",
      "metadata": {
        "id": "dQ4iYAx4cZKX",
        "colab_type": "code",
        "colab": {
          "base_uri": "https://localhost:8080/",
          "height": 34
        },
        "outputId": "d339f112-b7f8-49cd-f97a-45ffa74eb134"
      },
      "source": [
        "for n in range(1,1001):\n",
        "  sum=0\n",
        "  temp=n\n",
        "  while temp>0:\n",
        "    d=temp%10\n",
        "    sum+=d**3\n",
        "    temp//=10\n",
        "  if n==sum:\n",
        "    print(n,end=\" \")"
      ],
      "execution_count": 13,
      "outputs": [
        {
          "output_type": "stream",
          "text": [
            "1 153 370 371 407 "
          ],
          "name": "stdout"
        }
      ]
    },
    {
      "cell_type": "code",
      "metadata": {
        "id": "uKo-R0YccrL9",
        "colab_type": "code",
        "colab": {
          "base_uri": "https://localhost:8080/",
          "height": 1000
        },
        "outputId": "a54975d4-884e-4535-e499-7fc850061b50"
      },
      "source": [
        "for i in range(1,101):\n",
        "  if i%3==0 and i%5==0:\n",
        "    print(\"Fizz buzz\")\n",
        "  elif i%5==0:\n",
        "    print(\"buzz\")\n",
        "  elif i%3==0:\n",
        "    print(\"fizz\")\n",
        "  else:\n",
        "    print(i)"
      ],
      "execution_count": 14,
      "outputs": [
        {
          "output_type": "stream",
          "text": [
            "1\n",
            "2\n",
            "fizz\n",
            "4\n",
            "buzz\n",
            "fizz\n",
            "7\n",
            "8\n",
            "fizz\n",
            "buzz\n",
            "11\n",
            "fizz\n",
            "13\n",
            "14\n",
            "Fizz buzz\n",
            "16\n",
            "17\n",
            "fizz\n",
            "19\n",
            "buzz\n",
            "fizz\n",
            "22\n",
            "23\n",
            "fizz\n",
            "buzz\n",
            "26\n",
            "fizz\n",
            "28\n",
            "29\n",
            "Fizz buzz\n",
            "31\n",
            "32\n",
            "fizz\n",
            "34\n",
            "buzz\n",
            "fizz\n",
            "37\n",
            "38\n",
            "fizz\n",
            "buzz\n",
            "41\n",
            "fizz\n",
            "43\n",
            "44\n",
            "Fizz buzz\n",
            "46\n",
            "47\n",
            "fizz\n",
            "49\n",
            "buzz\n",
            "fizz\n",
            "52\n",
            "53\n",
            "fizz\n",
            "buzz\n",
            "56\n",
            "fizz\n",
            "58\n",
            "59\n",
            "Fizz buzz\n",
            "61\n",
            "62\n",
            "fizz\n",
            "64\n",
            "buzz\n",
            "fizz\n",
            "67\n",
            "68\n",
            "fizz\n",
            "buzz\n",
            "71\n",
            "fizz\n",
            "73\n",
            "74\n",
            "Fizz buzz\n",
            "76\n",
            "77\n",
            "fizz\n",
            "79\n",
            "buzz\n",
            "fizz\n",
            "82\n",
            "83\n",
            "fizz\n",
            "buzz\n",
            "86\n",
            "fizz\n",
            "88\n",
            "89\n",
            "Fizz buzz\n",
            "91\n",
            "92\n",
            "fizz\n",
            "94\n",
            "buzz\n",
            "fizz\n",
            "97\n",
            "98\n",
            "fizz\n",
            "buzz\n"
          ],
          "name": "stdout"
        }
      ]
    },
    {
      "cell_type": "code",
      "metadata": {
        "id": "ymjI5iehc-eA",
        "colab_type": "code",
        "colab": {
          "base_uri": "https://localhost:8080/",
          "height": 84
        },
        "outputId": "09c218a1-5329-4904-bf06-703f5de88848"
      },
      "source": [
        "hgt=int(input(\"hgt:\"))\n",
        "u=int(input(\"u:\"))\n",
        "d=int(input(\"d:\"))\n",
        "k=0\n",
        "while (u-d)*k <=(hgt-u):\n",
        "    k=k+1\n",
        "print(k+1)"
      ],
      "execution_count": 15,
      "outputs": [
        {
          "output_type": "stream",
          "text": [
            "hgt:500\n",
            "u:20\n",
            "d:15\n",
            "98\n"
          ],
          "name": "stdout"
        }
      ]
    }
  ]
}